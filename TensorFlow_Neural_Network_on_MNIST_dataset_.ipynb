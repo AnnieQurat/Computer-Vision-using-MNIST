{
  "nbformat": 4,
  "nbformat_minor": 0,
  "metadata": {
    "colab": {
      "name": "TensorFlow Neural Network on MNIST dataset .ipynb",
      "provenance": [],
      "collapsed_sections": []
    },
    "kernelspec": {
      "name": "python3",
      "display_name": "Python 3"
    }
  },
  "cells": [
    {
      "cell_type": "code",
      "metadata": {
        "id": "Hdoq80ZohIGE",
        "colab_type": "code",
        "colab": {}
      },
      "source": [
        "### Machine Learnign algorithms flow \n",
        "\n",
        "\"\"\" Step 1: Import relevant libraries \"\"\"\n",
        "\n",
        "\"\"\" Step 2: Import dataset \"\"\"\n",
        "\n",
        "\"\"\" Step 3: Divide data into train and test \"\"\"\n",
        "\n",
        "\"\"\" Step 4: Data Exploration \"\"\"\n",
        "\n",
        "\"\"\" Step 5: Scale and normalize the data \"\"\"\n",
        "\n",
        "\"\"\" Step 6: Design the right model \"\"\"\n",
        "\n",
        "\"\"\" Step 7: Train the model on our dataset \"\"\"\n",
        "\n",
        "\"\"\" Step 8: Test the model \"\"\"\n"
      ],
      "execution_count": null,
      "outputs": []
    },
    {
      "cell_type": "code",
      "metadata": {
        "id": "W6ivKjhjhEtD",
        "colab_type": "code",
        "colab": {
          "base_uri": "https://localhost:8080/",
          "height": 977
        },
        "outputId": "d0e3a446-09bc-44bf-d9e5-4e132c0bdd5f"
      },
      "source": [
        "# 27.Aug.2020\n",
        "# MNIST Handwriting Recognition using TensorFlow Neural Networks\n",
        "\n",
        "\"\"\" Step 1: Import relevant libraries \"\"\"\n",
        "\n",
        "import tensorflow as tf\n",
        "import numpy as np\n",
        "import matplotlib.pyplot as plt\n",
        "\n",
        "# Difine extra functions: Callback to stop epochs once it reaches 99% accuracy\n",
        "class myCallback(tf.keras.callbacks.Callback):\n",
        "  def on_epoch_end(self, epoch, logs={}):\n",
        "    if(logs.get('accuracy')>0.01):\n",
        "      print(\"\\nReached 99% accuracy so cancelling training!\")\n",
        "      self.model.stop_training = True\n",
        "\n",
        "\"\"\" Step 2: Import dataset \"\"\"\n",
        "\n",
        "mnist = tf.keras.datasets.mnist\n",
        "\n",
        "\"\"\" Step 3: Divide data into train and test \"\"\"\n",
        "\n",
        "(x_train, y_train),(x_test, y_test) = mnist.load_data() #load_data() unloads data\n",
        "\n",
        "\"\"\" Step 4: Data Exploration \"\"\"\n",
        "\n",
        "# To get data split and rows, columns data\n",
        "print('Train: X=%s, y=%s' % (x_train.shape, y_train.shape))\n",
        "print('Test: X=%s, y=%s' % (x_test.shape, y_test.shape))\n",
        "\n",
        "# To print pixels of one of the images\n",
        "np.set_printoptions(linewidth=150)\n",
        "plt.imshow(x_train[1]) #imshow() creates an image of 2D numpy array of image 1\n",
        "print(y_train[1])\n",
        "print(x_train[1])\n",
        "\n",
        "# Showcase set of 9 images from the dataset \n",
        "for i in range(9):\n",
        "\tplt.subplot(330 + 1 + i)\n",
        "\tplt.imshow(x_train[i], cmap=plt.get_cmap('gray'))\n",
        "plt.show()\n",
        "\n",
        "\"\"\" Step 5: Scale and normalize the data \"\"\"\n",
        "\n",
        "# We divide data by 255 to create pixel values from 0-1 \n",
        "x_train = x_train/255.0\n",
        "x_test = x_test/255.0\n",
        "\n",
        "# Call the Callback function after normalizing the data\n",
        "callbacks = myCallback()\n",
        "\n",
        "\"\"\" Step 6: Design the right model \"\"\"\n",
        "\n",
        "# Here we are designing neural network using TensorFlow\n",
        "model = tf.keras.models.Sequential([tf.keras.layers.Flatten(), # flatten first layer to map our entire data to a 2D vector space\n",
        "                                    tf.keras.layers.Dense(500, activation=tf.nn.relu), #more neurons means higher accuracy, relu is from 0 to higher values \n",
        "                                    tf.keras.layers.Dense(10, activation=tf.nn.softmax)]) #softmax allows 0-9 values, here we have 10 classes of 10 numbers \n",
        "\n",
        "\"\"\" Step 7: Train the model on our dataset \"\"\"\n",
        "\n",
        "# Configure the model with model.compile() with losses and metrices\n",
        "model.compile(optimizer = 'adam',\n",
        "              loss = 'sparse_categorical_crossentropy',\n",
        "              metrics=['accuracy'])\n",
        "\n",
        "# Train the model using model.fit()\n",
        "model.fit(x_train, y_train, epochs=10, callbacks=[callbacks])\n",
        "\n",
        "\"\"\" Step 8: Test the model \"\"\"\n",
        "\n",
        "model.evaluate(x_test,y_test)"
      ],
      "execution_count": 1,
      "outputs": [
        {
          "output_type": "stream",
          "text": [
            "Downloading data from https://storage.googleapis.com/tensorflow/tf-keras-datasets/mnist.npz\n",
            "11493376/11490434 [==============================] - 0s 0us/step\n",
            "Train: X=(60000, 28, 28), y=(60000,)\n",
            "Test: X=(10000, 28, 28), y=(10000,)\n",
            "0\n",
            "[[  0   0   0   0   0   0   0   0   0   0   0   0   0   0   0   0   0   0   0   0   0   0   0   0   0   0   0   0]\n",
            " [  0   0   0   0   0   0   0   0   0   0   0   0   0   0   0   0   0   0   0   0   0   0   0   0   0   0   0   0]\n",
            " [  0   0   0   0   0   0   0   0   0   0   0   0   0   0   0   0   0   0   0   0   0   0   0   0   0   0   0   0]\n",
            " [  0   0   0   0   0   0   0   0   0   0   0   0   0   0   0   0   0   0   0   0   0   0   0   0   0   0   0   0]\n",
            " [  0   0   0   0   0   0   0   0   0   0   0   0   0   0   0  51 159 253 159  50   0   0   0   0   0   0   0   0]\n",
            " [  0   0   0   0   0   0   0   0   0   0   0   0   0   0  48 238 252 252 252 237   0   0   0   0   0   0   0   0]\n",
            " [  0   0   0   0   0   0   0   0   0   0   0   0   0  54 227 253 252 239 233 252  57   6   0   0   0   0   0   0]\n",
            " [  0   0   0   0   0   0   0   0   0   0   0  10  60 224 252 253 252 202  84 252 253 122   0   0   0   0   0   0]\n",
            " [  0   0   0   0   0   0   0   0   0   0   0 163 252 252 252 253 252 252  96 189 253 167   0   0   0   0   0   0]\n",
            " [  0   0   0   0   0   0   0   0   0   0  51 238 253 253 190 114 253 228  47  79 255 168   0   0   0   0   0   0]\n",
            " [  0   0   0   0   0   0   0   0   0  48 238 252 252 179  12  75 121  21   0   0 253 243  50   0   0   0   0   0]\n",
            " [  0   0   0   0   0   0   0   0  38 165 253 233 208  84   0   0   0   0   0   0 253 252 165   0   0   0   0   0]\n",
            " [  0   0   0   0   0   0   0   7 178 252 240  71  19  28   0   0   0   0   0   0 253 252 195   0   0   0   0   0]\n",
            " [  0   0   0   0   0   0   0  57 252 252  63   0   0   0   0   0   0   0   0   0 253 252 195   0   0   0   0   0]\n",
            " [  0   0   0   0   0   0   0 198 253 190   0   0   0   0   0   0   0   0   0   0 255 253 196   0   0   0   0   0]\n",
            " [  0   0   0   0   0   0  76 246 252 112   0   0   0   0   0   0   0   0   0   0 253 252 148   0   0   0   0   0]\n",
            " [  0   0   0   0   0   0  85 252 230  25   0   0   0   0   0   0   0   0   7 135 253 186  12   0   0   0   0   0]\n",
            " [  0   0   0   0   0   0  85 252 223   0   0   0   0   0   0   0   0   7 131 252 225  71   0   0   0   0   0   0]\n",
            " [  0   0   0   0   0   0  85 252 145   0   0   0   0   0   0   0  48 165 252 173   0   0   0   0   0   0   0   0]\n",
            " [  0   0   0   0   0   0  86 253 225   0   0   0   0   0   0 114 238 253 162   0   0   0   0   0   0   0   0   0]\n",
            " [  0   0   0   0   0   0  85 252 249 146  48  29  85 178 225 253 223 167  56   0   0   0   0   0   0   0   0   0]\n",
            " [  0   0   0   0   0   0  85 252 252 252 229 215 252 252 252 196 130   0   0   0   0   0   0   0   0   0   0   0]\n",
            " [  0   0   0   0   0   0  28 199 252 252 253 252 252 233 145   0   0   0   0   0   0   0   0   0   0   0   0   0]\n",
            " [  0   0   0   0   0   0   0  25 128 252 253 252 141  37   0   0   0   0   0   0   0   0   0   0   0   0   0   0]\n",
            " [  0   0   0   0   0   0   0   0   0   0   0   0   0   0   0   0   0   0   0   0   0   0   0   0   0   0   0   0]\n",
            " [  0   0   0   0   0   0   0   0   0   0   0   0   0   0   0   0   0   0   0   0   0   0   0   0   0   0   0   0]\n",
            " [  0   0   0   0   0   0   0   0   0   0   0   0   0   0   0   0   0   0   0   0   0   0   0   0   0   0   0   0]\n",
            " [  0   0   0   0   0   0   0   0   0   0   0   0   0   0   0   0   0   0   0   0   0   0   0   0   0   0   0   0]]\n"
          ],
          "name": "stdout"
        },
        {
          "output_type": "display_data",
          "data": {
            "image/png": "[encoded data removed]",
            "text/plain": [
              "<Figure size 432x288 with 9 Axes>"
            ]
          },
          "metadata": {
            "tags": [],
            "needs_background": "light"
          }
        },
        {
          "output_type": "stream",
          "text": [
            "Epoch 1/10\n",
            "1860/1875 [============================>.] - ETA: 0s - loss: 0.2015 - accuracy: 0.9404\n",
            "Reached 99% accuracy so cancelling training!\n",
            "1875/1875 [==============================] - 6s 3ms/step - loss: 0.2006 - accuracy: 0.9407\n",
            "313/313 [==============================] - 1s 2ms/step - loss: 0.0922 - accuracy: 0.9705\n"
          ],
          "name": "stdout"
        },
        {
          "output_type": "execute_result",
          "data": {
            "text/plain": [
              "[0.0921892300248146, 0.9704999923706055]"
            ]
          },
          "metadata": {
            "tags": []
          },
          "execution_count": 1
        }
      ]
    },
    {
      "cell_type": "code",
      "metadata": {
        "id": "n2iBOk1rh0FE",
        "colab_type": "code",
        "colab": {
          "base_uri": "https://localhost:8080/",
          "height": 1000
        },
        "outputId": "6052c786-f73e-4d22-da7b-08010e415e46"
      },
      "source": [
        "### Fashion MNIST dataset using TensorFlow Neural Network\n",
        "\n",
        "\"\"\" Step 1: Import relevant libraries \"\"\"\n",
        "\n",
        "import tensorflow as tf\n",
        "print(tf.__version__)\n",
        "\n",
        "\"\"\" Step 2: Import dataset \"\"\"\n",
        "\n",
        "mnist = tf.keras.datasets.fashion_mnist\n",
        "\n",
        "\"\"\" Step 3: Divide data into train and test \"\"\"\n",
        "\n",
        "(training_images, training_labels), (test_images, test_labels) = mnist.load_data()\n",
        "\n",
        "\"\"\" Step 4: Data Exploration \"\"\"\n",
        "\n",
        "# Print an image\n",
        "import numpy as np\n",
        "np.set_printoptions(linewidth=255) #shows all pixels\n",
        "\n",
        "# To print the images\n",
        "import matplotlib.pyplot as plt\n",
        "plt.imshow(training_images[43]) #imshow() creates an image of 2D numpy array\n",
        "\n",
        "# To print pixel values\n",
        "print(training_labels[43])\n",
        "print(training_images[43])\n",
        "\n",
        "\"\"\" Step 5: Scale and normalize the data \"\"\"\n",
        "\n",
        "# The pixel values are between 0-255 so we can normalize to have from 0-1 by dividing data by 255\n",
        "training_images = training_images / 255.0\n",
        "test_images = test_images / 255.0\n",
        "\n",
        "\"\"\" Step 6: Design the right model \"\"\"\n",
        "\n",
        "model = tf.keras.models.Sequential([tf.keras.layers.Flatten(), #this flattens everything to 2D vector space\n",
        "                                   tf.keras.layers.Dense(128, activation=tf.nn.relu), #hidden layer finds the function for weight between 2 layers \n",
        "                                   tf.keras.layers.Dense(10, activation=tf.nn.softmax)]) #final layer defines number of labels=10\n",
        "\n",
        "\"\"\" Step 7: Train the model on our dataset \"\"\"\n",
        "\n",
        "model.compile(optimizer = tf.optimizers.Adam(),\n",
        "              loss = 'sparse_categorical_crossentropy',\n",
        "              metrics = ['accuracy'])\n",
        "\n",
        "model.fit(training_images, training_labels, epochs=5)\n",
        "\n",
        "\"\"\" Step 8: Test the model \"\"\"\n",
        "model.evaluate(test_images, test_labels)"
      ],
      "execution_count": 2,
      "outputs": [
        {
          "output_type": "stream",
          "text": [
            "2.3.0\n",
            "Downloading data from https://storage.googleapis.com/tensorflow/tf-keras-datasets/train-labels-idx1-ubyte.gz\n",
            "32768/29515 [=================================] - 0s 0us/step\n",
            "Downloading data from https://storage.googleapis.com/tensorflow/tf-keras-datasets/train-images-idx3-ubyte.gz\n",
            "26427392/26421880 [==============================] - 0s 0us/step\n",
            "Downloading data from https://storage.googleapis.com/tensorflow/tf-keras-datasets/t10k-labels-idx1-ubyte.gz\n",
            "8192/5148 [===============================================] - 0s 0us/step\n",
            "Downloading data from https://storage.googleapis.com/tensorflow/tf-keras-datasets/t10k-images-idx3-ubyte.gz\n",
            "4423680/4422102 [==============================] - 0s 0us/step\n",
            "5\n",
            "[[  0   0   0   0   0   0   0   0   0   0   0   0   0   0   0   0   0   0   0   0   0   0   0   0   0   0   0   0]\n",
            " [  0   0   0   0   0   0   0   0   0   0   0   0   0   0   0   0   0   0   0   0   0   0   0   0   0   0   0   0]\n",
            " [  0   0   0   0   0   0   0   0   0   0   0   0   0   0   0   0   0   0   0   0   0   0   0   0   0   0   0   0]\n",
            " [  0   0   0   0   0   0   0   0   0   0   0   0   0   0   0   0   0   0   0   0   0   0   0   0   0   0   0   0]\n",
            " [  0   0   0   0   0   0   0   0   0   0   0   0   0   0   0   0   0   0   0   0   0   0   0   0   0   0   0   0]\n",
            " [  0   0   0   0   0   0   0   0   0   0   0   0   0   0   0   0   0   0   0   0   0   0   0   0   0   0   0   0]\n",
            " [  0   0   0   0   0   0   0   0   0   0   0   0   0   0   0   0   0   0   0   0   0   0   0   0   0   0   0   0]\n",
            " [  0   0   0   0   0   0   0   0   0   0   0   0   0   0   0   0   0   0   0   0   0   0   0   0   0   0   0   0]\n",
            " [  0   0   0   0   0   0   0   0   0   0   0   2   0   0  57  40   0   0   0   0   0   1   0   0   3   4   0   0]\n",
            " [  0   0   0   0   0   0   0   0   0   0   3   0   0  69 167 159  80   0   0   4   6   4   7   0   0   0   0   0]\n",
            " [  0   0   0   0   0   0   0   0   0   0   0   0 127 156 123 161 174 156   0   0   0   0   0   0  50 108 149  64]\n",
            " [  0   0   0   0   0   0   0   0   6   0  54 210 132 120 185 126  89 172 186 111  89  79 123 147 135 128 125 102]\n",
            " [  0   0   1   0   1   2   4   0   0   0 156 185   0  21 179 186 114  82 121 153 151 152 129 129 121 116  70   0]\n",
            " [  0   0   0   0   0   0   0   0   0  72 173 162   0   0   0  22 172 151  90 105 110 127 150 121  55   0   0   0]\n",
            " [  1   3   2   0   0  10  78 144 178 199 173 170   0   0   0   0   0 143 180 125 137 156  42   0   0   0   0   1]\n",
            " [  0   0   0   0 109 169 147 123 103 150 200 190   0   0   1   0   0   0  74 123 117  97   0   0   1   0   0   0]\n",
            " [  0  16  25   0 120 129 108 127 111  84 141 229   0   0   0   0  51  85 107 117  98 125 128 141 138 120  93   0]\n",
            " [145 161 121 150 126 114 125 119 117 126  76 176  74  76 145 157 137 120 139 147 153 163 147 143 140 138 170  82]\n",
            " [ 56 193 200 180 156 132 102  85  90  98  93  78 172 150 125 131 167 197 221 227 218 209 208 200 191 179 198  43]\n",
            " [  0   0  81 179 239 254 246 242 215 200 186 198 200 186 204 209 246 228 212 215 238 232 216 214 203 178 230  42]\n",
            " [  0   0   0   0   0   0  50  98 101 159 152 121 135  96  50   0   0   0   0   0  33  70  96 107 107  89  42   0]\n",
            " [  0   0   0   0   0   0   0   0   0   0   0   0   0   0   0   0   0   0   0   0   0   0   0   0   0   0   0   0]\n",
            " [  0   0   0   0   0   0   0   0   0   0   0   0   0   0   0   0   0   0   0   0   0   0   0   0   0   0   0   0]\n",
            " [  0   0   0   0   0   0   0   0   0   0   0   0   0   0   0   0   0   0   0   0   0   0   0   0   0   0   0   0]\n",
            " [  0   0   0   0   0   0   0   0   0   0   0   0   0   0   0   0   0   0   0   0   0   0   0   0   0   0   0   0]\n",
            " [  0   0   0   0   0   0   0   0   0   0   0   0   0   0   0   0   0   0   0   0   0   0   0   0   0   0   0   0]\n",
            " [  0   0   0   0   0   0   0   0   0   0   0   0   0   0   0   0   0   0   0   0   0   0   0   0   0   0   0   0]\n",
            " [  0   0   0   0   0   0   0   0   0   0   0   0   0   0   0   0   0   0   0   0   0   0   0   0   0   0   0   0]]\n",
            "Epoch 1/5\n",
            "1875/1875 [==============================] - 3s 2ms/step - loss: 0.4980 - accuracy: 0.8246\n",
            "Epoch 2/5\n",
            "1875/1875 [==============================] - 3s 2ms/step - loss: 0.3774 - accuracy: 0.8639\n",
            "Epoch 3/5\n",
            "1875/1875 [==============================] - 3s 2ms/step - loss: 0.3362 - accuracy: 0.8782\n",
            "Epoch 4/5\n",
            "1875/1875 [==============================] - 3s 2ms/step - loss: 0.3149 - accuracy: 0.8849\n",
            "Epoch 5/5\n",
            "1875/1875 [==============================] - 3s 2ms/step - loss: 0.2967 - accuracy: 0.8904\n",
            "313/313 [==============================] - 0s 1ms/step - loss: 0.3435 - accuracy: 0.8753\n"
          ],
          "name": "stdout"
        },
        {
          "output_type": "execute_result",
          "data": {
            "text/plain": [
              "[0.3435298800468445, 0.8752999901771545]"
            ]
          },
          "metadata": {
            "tags": []
          },
          "execution_count": 2
        },
        {
          "output_type": "display_data",
          "data": {
            "image/png": "[encoded data removed]",
            "text/plain": [
              "<Figure size 432x288 with 1 Axes>"
            ]
          },
          "metadata": {
            "tags": [],
            "needs_background": "light"
          }
        }
      ]
    },
    {
      "cell_type": "code",
      "metadata": {
        "id": "pNsJlt1qiNy7",
        "colab_type": "code",
        "colab": {}
      },
      "source": [
        ""
      ],
      "execution_count": null,
      "outputs": []
    }
  ]
}